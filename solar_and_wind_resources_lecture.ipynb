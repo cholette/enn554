{
 "cells": [
  {
   "cell_type": "markdown",
   "metadata": {},
   "source": [
    "# Lecture 2 calculations"
   ]
  },
  {
   "cell_type": "code",
   "execution_count": null,
   "metadata": {},
   "outputs": [],
   "source": [
    "import matplotlib.pyplot as plt\n",
    "import sympy as sp\n",
    "import numpy as np\n",
    "import sys\n",
    "from enn554.sun import black_body_spectral_radiance\n",
    "from enn554.constants import σ\n",
    "from enn554.math import cosd, sind\n",
    "from CoolProp.CoolProp import PropsSI "
   ]
  },
  {
   "cell_type": "markdown",
   "metadata": {},
   "source": [
    "## Solar water heater example "
   ]
  },
  {
   "cell_type": "code",
   "execution_count": null,
   "metadata": {},
   "outputs": [],
   "source": [
    "T_sun = 5800.0 #K\n",
    "T_surf = 120+273.15\n",
    "T_sky = -10+273.15 \n",
    "T_inf = 30+273.15\n",
    "ε = 0.1\n",
    "α_solar = 0.95\n",
    "α_sky = ε\n",
    "G_solar = 750 #W/m2\n",
    "\n",
    "λ = np.arange(0.1,40,0.01) # [µm]\n",
    "L_sun =  black_body_spectral_radiance(λ,T_sun,)\n",
    "L_surf = black_body_spectral_radiance(λ,T_surf)\n",
    "L_sky = black_body_spectral_radiance(λ,T_sky)\n",
    "\n",
    "fig,ax = plt.subplots(figsize=(10,6))\n",
    "ax.plot(λ,L_sun/L_sun.max(),label=r'Black body @ $T_{sun}=$5800K',linewidth=3,)\n",
    "ax.plot(λ,L_surf/L_surf.max(),label=r'Black body @ $ T_{surface}=$393K',linewidth=3)\n",
    "ax.plot(λ,L_sky/L_sky.max(),label=r'Black body @ $T_{sky}=$263K',linewidth=3)\n",
    "ax.legend(fontsize=16)\n",
    "ax.set_xlabel(r'Wavelength, $\\lambda$ [µm]',fontsize=16)\n",
    "ax.set_ylabel(r'Normalized Spectral Radiance,  $\\frac{ L_{\\lambda}(\\lambda)}{L_{\\lambda,\\text{max}}(\\lambda)}$',fontsize=16)\n",
    "# ax.set_ylim((0,2200))\n",
    "\n",
    "q_water = α_solar * G_solar + α_sky*σ*T_sky**4 - 0.22*(T_surf-T_inf)**(4/3)-ε*σ*T_surf**4\n",
    "η = q_water/G_solar\n",
    "print(f'Heat flux to water: {q_water:.2f} (W/m^2)')\n",
    "print(f'eta =  {η:.2f}')"
   ]
  },
  {
   "cell_type": "markdown",
   "metadata": {},
   "source": [
    "## Two-surface enclosure"
   ]
  },
  {
   "cell_type": "code",
   "execution_count": null,
   "metadata": {},
   "outputs": [],
   "source": [
    "J1,J2 = sp.symbols('J1 J2')\n",
    "ε1,ε2 = sp.symbols('ε1 ε2')\n",
    "A1,A2 = sp.symbols('A1 A2')\n",
    "T1,T2 = sp.symbols('T1 T2')\n",
    "F12 = sp.symbols('F12')\n",
    "σ=sp.symbols('σ')\n",
    "\n",
    "sols = sp.solve( [  (ε1*A1)*(σ*T1**4 - J1)/(1-ε1) - A1*F12*(J1-J2),\n",
    "                    (ε2*A2)*(σ*T2**4 - J2)/(1-ε2) + A1*F12*(J1-J2)],[J1,J2],dict=True)"
   ]
  },
  {
   "cell_type": "code",
   "execution_count": null,
   "metadata": {},
   "outputs": [],
   "source": [
    "q1 = (σ*T1**4-sols[0][J1])/( (1-ε1)/(ε1*A1) )\n",
    "q1.simplify()"
   ]
  },
  {
   "cell_type": "code",
   "execution_count": null,
   "metadata": {},
   "outputs": [],
   "source": [
    "T1 = 273.15+15\n",
    "P1 = 0.1e6\n",
    "P2 = 1.0e6\n",
    "T_max = 1100 + 273.15\n",
    "Cp0 = PropsSI('CPMASS','T',300,'P',1e3,'Air')\n",
    "Cv0 = PropsSI('CVMASS','T',300,'P',1e3,'Air')\n",
    "k = Cp0/Cv0\n",
    "\n",
    "# compressor\n",
    "T2 = T1 * (P2/P1)**((k-1)/k)\n",
    "h1 = PropsSI('H','T',T1,'P',P1,'Air')\n",
    "h2 = PropsSI('H','T',T2,'P',P2,'Air')\n",
    "w_compressor =  (h2-h1)/1e3\n",
    "\n",
    "# turbine\n",
    "T4 = T_max * (P2/P1)**(-(k-1)/k)\n",
    "h3 = PropsSI('H','T',T_max,'P',P2,'Air')\n",
    "h4 = PropsSI('H','T',T4,'P',P1,'Air')\n",
    "w_turbine =  (h3-h4)/1e3\n",
    "w_net = w_turbine-w_compressor\n",
    "\n",
    "# combustor\n",
    "cp = PropsSI('CPMASS','T',T2,'P',1e6,'Air')\n",
    "qH = cp*(T_max-T2)\n",
    "qH/=1e3\n",
    "\n",
    "# heat rejection\n",
    "cp = PropsSI('CPMASS','T',T4,'P',0.1,'Air')\n",
    "qL = cp*(T4-T1)\n",
    "qL/=1e3\n",
    "\n",
    "η_thermal = w_net/qH"
   ]
  },
  {
   "cell_type": "markdown",
   "metadata": {},
   "source": [
    "## Black body "
   ]
  },
  {
   "cell_type": "code",
   "execution_count": null,
   "metadata": {},
   "outputs": [],
   "source": [
    "fig,ax = plt.subplots()\n",
    "λ = np.linspace(0.1,20,1000)\n",
    "for T in [300,1000,2000,4000,6000]:\n",
    "    L = black_body_spectral_radiance(λ,T,display_eqn=False)\n",
    "    ax.plot(λ,L/L.max(),label=f'T={T} K')\n",
    "    \n",
    "ax.set_title('Black bodies at various temperatures')\n",
    "ax.legend()\n",
    "ax.set_xlabel(r'Wavelength, $\\lambda$ [µm]')\n",
    "ax.set_ylabel(r'Normalzed Spectral Radiance, $\\frac{ L_{\\lambda,b}(\\lambda)}{L_{\\lambda,b,\\text{max}}(\\lambda)}$')\n"
   ]
  },
  {
   "cell_type": "markdown",
   "metadata": {},
   "source": [
    "## Example 3"
   ]
  },
  {
   "cell_type": "code",
   "execution_count": null,
   "metadata": {},
   "outputs": [],
   "source": [
    "ρ = 1000\n",
    "v1 = 3\n",
    "A1 = 0.006\n",
    "θ = np.linspace(0,180,100)\n",
    "Fx = ρ*A1*v1**2*(cosd(θ)-1)\n",
    "Fz = ρ*A1*v1**2*sind(θ)\n",
    "\n",
    "fig,ax = plt.subplots()\n",
    "ax.plot(θ,Fx,label=r'$F_x$',linewidth=2)\n",
    "ax.plot(θ,Fz,label=r'$F_z$',linewidth=2)\n",
    "ax.set_xlabel(r'$\\theta$ [deg]')\n",
    "ax.set_ylabel(r'Force [N]')\n",
    "ax.legend()"
   ]
  },
  {
   "cell_type": "markdown",
   "metadata": {},
   "source": [
    "# References\n",
    "\n",
    "\n",
    "\n"
   ]
  }
 ],
 "metadata": {
  "kernelspec": {
   "display_name": "egb351",
   "language": "python",
   "name": "python3"
  },
  "language_info": {
   "codemirror_mode": {
    "name": "ipython",
    "version": 3
   },
   "file_extension": ".py",
   "mimetype": "text/x-python",
   "name": "python",
   "nbconvert_exporter": "python",
   "pygments_lexer": "ipython3",
   "version": "3.10.9"
  }
 },
 "nbformat": 4,
 "nbformat_minor": 2
}
