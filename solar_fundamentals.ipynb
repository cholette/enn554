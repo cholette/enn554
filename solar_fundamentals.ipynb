{
 "cells": [
  {
   "cell_type": "markdown",
   "metadata": {},
   "source": [
    "# Lecture 3 plots and analysis"
   ]
  },
  {
   "cell_type": "code",
   "execution_count": null,
   "metadata": {},
   "outputs": [],
   "source": [
    "from pysolar import solar\n",
    "from datetime import datetime, timezone, timedelta\n",
    "import pandas as pd\n",
    "import matplotlib.pyplot as plt\n",
    "import numpy as np\n",
    "import matplotlib.dates as mdates\n",
    "from IPython.display import display, Markdown\n",
    "import sys\n",
    "from enn554.sun import compute_solar_angles, sun_path_diagram, black_body_spectral_radiance, plane_of_array_irradiance, sun_path_3d\n",
    "from enn554.utilities import read_TMY"
   ]
  },
  {
   "cell_type": "markdown",
   "metadata": {},
   "source": [
    "## Sun-earth distance"
   ]
  },
  {
   "cell_type": "code",
   "execution_count": null,
   "metadata": {},
   "outputs": [],
   "source": [
    "r0 = 1.495e11\n",
    "sind = lambda x: np.sin(np.deg2rad(x))\n",
    "cosd = lambda x: np.cos(np.deg2rad(x))\n",
    "t = np.arange('2023-01-01','2023-12-31',dtype='datetime64[D]')\n",
    "doy = (t-t[0].astype('timedelta64[D]')).astype('float64')\n",
    "sun_earth_distance = lambda x: r0*(1+0.017*sind(360*(x-93)/365.0))\n",
    "sed = sun_earth_distance(doy)\n",
    "\n",
    "fig,ax = plt.subplots()\n",
    "ax.plot(t,sed)\n",
    "ax.xaxis.set_major_formatter(mdates.DateFormatter('%b'))\n",
    "xlims = ax.get_xlim()\n",
    "ylims = ax.get_ylim()\n",
    "ax.grid('on')\n",
    "\n",
    "# extrema\n",
    "doy_max_distance = 90*365/360+93\n",
    "ymax = sun_earth_distance(doy_max_distance)\n",
    "xmax = t[np.argmin(np.abs(doy-doy_max_distance))]\n",
    "\n",
    "xmaxn = (mdates.date2num(xmax)-xlims[0])/np.diff(xlims) # put into axis coordinates\n",
    "ymaxn = (ymax-ylims[0])/np.diff(ylims)\n",
    "ax.axhline(y=ymax,xmax=xmaxn[0],ls=':',color='red')\n",
    "ax.axvline(x=xmax,ymax=ymaxn[0],ls=':',color='red')\n",
    "\n",
    "doy_min_distance = -90*365/360+93\n",
    "ymin = sun_earth_distance(doy_min_distance)\n",
    "xmin = t[np.argmin(np.abs(doy-doy_min_distance))]\n",
    "xminn = (mdates.date2num(xmin)-xlims[0])/np.diff(xlims) # put into axis coordinates\n",
    "yminn = (ymin-ylims[0])/np.diff(ylims) # put into axis coordinates\n",
    "ax.axhline(y=ymax,xmax=xminn[0],ls=':',color='red')\n",
    "ax.axvline(x=xmin,ymax=yminn[0],ls=':',color='red')\n",
    "\n",
    "ax.set_title(\"Sun-Earth Distance\")\n",
    "print(f\"Maximum: {ymax:.2e} (on {xmax})\")\n",
    "print(f\"Minimum: {ymin:.2e} (on {xmin})\")\n"
   ]
  },
  {
   "cell_type": "markdown",
   "metadata": {},
   "source": [
    "## Solar specturm — approximation of the sun as a black body"
   ]
  },
  {
   "cell_type": "markdown",
   "metadata": {},
   "source": [
    "The below code demonstrates the use of Planck's Law to approximate the solar spectrum and compute different quantities of interest. "
   ]
  },
  {
   "cell_type": "markdown",
   "metadata": {},
   "source": [
    "Plot the blackbody spectrum and compute:\n",
    "1) the total irradiation\n",
    "2) the solar irradiation in the visible spectrum"
   ]
  },
  {
   "cell_type": "code",
   "execution_count": null,
   "metadata": {},
   "outputs": [],
   "source": [
    "T_sun = 5800.0 # K\n",
    "Ω_sun = 68e-6  # [sr], solid angle of sun seen by earth, see [1] or below\n",
    "λ = np.arange(0.1,4.0,0.001) # [µm]\n",
    "I_sun = Ω_sun * black_body_spectral_radiance(λ,T_sun,display_eqn=True)\n",
    "# I_sun = lambda x: C1 / (x**5 * (np.exp(C2/x/T_sun)-1) ) # [W/m2/µm]\n",
    "# E_sun = lambda x: 3.7419e8 / (x**5 * (np.exp(14400/x/T_sun)-1) ) # [W/m2/µm] THIS IS SPECTRAL RADIANT EXITANCE, not spectral radiance\n",
    "# E_sun = lambda x: 8105/ (x**5 * (np.exp(2.480/x)-1) ) # [W/m2/µm]\n",
    "\n",
    "# NREL AM0\n",
    "df = pd.read_excel(\"data/astmg173.xls\",sheet_name=\"SMARTS2\",index_col=0,skiprows=1)\n",
    "df *= 1000\n",
    "df.index /= 1000\n",
    "\n",
    "fig,ax = plt.subplots()\n",
    "df.plot(ax=ax,y=\"Etr W*m-2*nm-1\",label='AM0 (ASTM G173-03)')\n",
    "ax.plot(λ,I_sun,label='Black body',linewidth=3)\n",
    "ax.legend()\n",
    "ax.set_xlabel(r'Wavelength, $\\lambda$ [µm]')\n",
    "ax.set_ylabel(r'Spectral Irradiance, $G_{sc,\\lambda}$($\\lambda$) [W/$m^2$/µm]')\n",
    "ax.set_ylim((0,2200))\n",
    "\n",
    "Gsc = np.trapz(I_sun,x=λ) \n",
    "total_exitance = np.trapz(np.pi/Ω_sun * I_sun,x=λ) \n",
    "print(f\"Total irradiation from black body: {Gsc:.2f} (W/m2)\")\n",
    "idx = np.where((λ>=0.380) & (λ<=0.780))[0]\n",
    "λ_visible = λ[idx]\n",
    "I_sun_visible = I_sun[idx]\n",
    "G_visible = np.trapz(I_sun_visible,x=λ_visible)\n",
    "print(f\"Total irradiation in  ({λ_visible[0]:.2f},{λ_visible[-1]:.2f}) body: {G_visible:.2f} W/m2 ({100*G_visible/Gsc:.1f} %)\")\n",
    "print(f\"Total exitance (MW/m2):  {total_exitance/1e6:.2f} (numerical inegration), {5.670e-8*T_sun**4 / 1e6:.2f} (Stefan-Boltzman)\")\n",
    "\n",
    "display(Markdown( rf\"\"\" $I(\\lambda) = \\frac{{{1.1911e8*Ω_sun:.0f}}}{{\\lambda^5 \\left[exp\\left(\\frac{{{1.4384e4/T_sun:.4f}}}{{\\lambda}}\\right) -1\\right]}} \\qquad [W/m^2 \\, \\mu m]$\n",
    "                    \"\"\"))"
   ]
  },
  {
   "cell_type": "markdown",
   "metadata": {},
   "source": [
    "## Solar constant"
   ]
  },
  {
   "cell_type": "code",
   "execution_count": null,
   "metadata": {},
   "outputs": [],
   "source": [
    "I_sun = 6.33e7\n",
    "R_sun = 1.39e9/2.0\n",
    "r_0 = 1.495e11\n",
    "G_sc = I_sun * 4*np.pi*R_sun**2/(4*np.pi*r_0**2)\n",
    "print(f\"The solar irradiance on earth is (on average) G_sc = {G_sc:.2f} W/m^2\")"
   ]
  },
  {
   "cell_type": "markdown",
   "metadata": {},
   "source": [
    "Comparison of the two methods of going from radiance to extraterrestrial irradiance"
   ]
  },
  {
   "cell_type": "code",
   "execution_count": null,
   "metadata": {},
   "outputs": [],
   "source": [
    "radiance_numerator = 1.1911e+08\n",
    "print(f\"C1 using exitance: {R_sun**2/r_0**2*np.pi*radiance_numerator}\")\n",
    "print(f\"C1 using Omega_sun: {radiance_numerator*Ω_sun}\")"
   ]
  },
  {
   "cell_type": "markdown",
   "metadata": {},
   "source": [
    "### Aside: solid angle of sun seen from earth and vice versa"
   ]
  },
  {
   "cell_type": "code",
   "execution_count": null,
   "metadata": {},
   "outputs": [],
   "source": [
    "θ = 32/60.0/2.0 # 32' solar angle from [2]\n",
    "Ω_sun_1 = 2*np.pi*(1-cosd(θ)) # conical solid angle\n",
    "Ω_sun_2 = 4*np.pi*sind(θ/2)**2 # alternative expression for the above. \n",
    "Ω_sun = 2*np.pi*(1-np.sqrt( (r0**2-R_sun**2)/r0**2 ))\n",
    "print(f\"The solid angle of the sun (as seen from Earth) is about {Ω_sun*1e6:.2f} µsr\")\n",
    "Ω_sun_1, Ω_sun, Ω_sun_2  # first method is from Chapter 2 in [5]"
   ]
  },
  {
   "cell_type": "code",
   "execution_count": null,
   "metadata": {},
   "outputs": [],
   "source": [
    "θ = 17/3600*np.pi/180/2.0 # 17'' solar angle from [2]\n",
    "Ω_earth = 2*np.pi*(1-np.cos(θ)) # conical solid angle\n",
    "print(f\"The solid angle of the earth (as seen from a the sun) is about {Ω_earth*1e9:.2f} nsr\")"
   ]
  },
  {
   "cell_type": "markdown",
   "metadata": {},
   "source": [
    "## Sun angles\n",
    "Watch out for:\n",
    "* Different radian/degree conventions with sines and cosines. I'm using degrees for this content\n",
    "* Different conventions for longitude. Pysolar uses -180 to 180 while the equations from Duffie and Beckman use 0 to 360 (increasing going westward)."
   ]
  },
  {
   "cell_type": "code",
   "execution_count": null,
   "metadata": {},
   "outputs": [],
   "source": [
    "# Brisbane, Australia (27.4705 S, 153.0260 E)\n",
    "lat = -27.47\n",
    "lon_st = 360-150 # E -> subtract from 360\n",
    "lon_pysolar = 153.02\n",
    "lon = 360-153.0260 # E -> subtract from 360\n",
    "utc_offset = 10 # hours\n",
    "\n",
    "# # Madison, Wisconsin for example 1.6.2a in Duffie and Beckman\n",
    "# lat = 43.0\n",
    "# lon = 89.4\n",
    "# lon_pysolar = -89.4\n",
    "# lon_st = 90\n",
    "# utc_offset = -6 # hours\n",
    "\n",
    "# local time\n",
    "s = 0\n",
    "m = 30 # should make t_solar = 9.5\n",
    "h = 5\n",
    "day = 1\n",
    "month = 1\n",
    "year = 2014\n",
    "\n",
    "dt = datetime(year,month,day,h,m,s,tzinfo=timezone(timedelta(hours=utc_offset)))\n",
    "doy = dt.timetuple().tm_yday # day of year\n",
    "γ_s_pysolar,θ_alt_pysolar = solar.get_position(lat,lon_pysolar,dt) \n",
    "θ_z_pysolar = 90-θ_alt_pysolar\n",
    "γ_s_pysolar -= 180 # pysolar uses 0 at north and positive angles east of north up to 360 https://pysolar.readthedocs.io/en/latest/#examples\n",
    "\n",
    "sun_angles = compute_solar_angles(dt,lat,lon,lon_st,force_south_as_zero=False)\n",
    "sun_angles"
   ]
  },
  {
   "cell_type": "code",
   "execution_count": null,
   "metadata": {},
   "outputs": [],
   "source": [
    "print(f\"Pysolar: (θ_z,γ_s), West of South: ({θ_z_pysolar:.2f},{γ_s_pysolar:.2f})\")\n",
    "print(f\"Calcs: (θ_z,γ_s), West of {sun_angles['azimuth_zero']}: ({sun_angles['zenith']:.2f},{sun_angles['azimuth']:.2f})\")"
   ]
  },
  {
   "cell_type": "markdown",
   "metadata": {},
   "source": [
    "Remaining differences seem to be due to some extra corrections (e.g. refraction corrections) applied by Pysolar"
   ]
  },
  {
   "cell_type": "markdown",
   "metadata": {},
   "source": [
    "## Sun Paths for different locations"
   ]
  },
  {
   "cell_type": "code",
   "execution_count": null,
   "metadata": {},
   "outputs": [],
   "source": [
    "from mpl_toolkits.mplot3d import Axes3D\n",
    "\n",
    "location_name = \"Brisbane, Australia\"\n",
    "lat = -27.4705\n",
    "lon_st = 360-150 # E -> subtract from 360\n",
    "lon_pysolar = 153.0260\n",
    "lon = 360-153.0260 # E -> subtract from 360\n",
    "utc_offset = 10\n",
    "\n",
    "# location_name = \"Madison, Wisconsin, USA\"\n",
    "# lat = 43.0\n",
    "# lon = 89.4\n",
    "# lon_st = 90\n",
    "# utc_offset = -6 # hours\n",
    "\n",
    "# location_name = \"Tromsø, Norway\"\n",
    "# lat = 69.6492\n",
    "# lon = 360-18.9560\n",
    "# lon_st = 360-15\n",
    "# utc_offset = 1 # hours\n",
    "\n",
    "summer_solstice = datetime(2024,6,20)\n",
    "winter_solstice = datetime(2024,12,21)\n",
    "dts = [summer_solstice,winter_solstice]\n",
    "dts_of_interest = np.array([dt.timetuple().tm_yday for dt in dts],dtype=np.float64)  # day of year\n",
    "doy_grid = np.arange(0,366,36,dtype=np.float64)\n",
    "\n",
    "for d in dts_of_interest:\n",
    "    if np.abs(doy_grid-d).min() < 10:   \n",
    "        idx = np.abs(doy_grid-d).argmin()\n",
    "        doy_grid = np.delete(doy_grid,idx)\n",
    "    doy_grid = np.r_[doy_grid,d]\n",
    "doy_grid = np.sort(doy_grid)\n",
    "\n",
    "hod_grid = np.arange(3,22,0.1)\n",
    "year = datetime.now().year\n",
    "dt0 = datetime(year,1,1,0,0,0,tzinfo=timezone(timedelta(hours=utc_offset)))\n",
    "dat = sun_path_diagram(dt0,hod_grid,doy_grid,lat,lon,lon_st,force_south_as_zero=False,location_name=location_name)"
   ]
  },
  {
   "cell_type": "code",
   "execution_count": null,
   "metadata": {},
   "outputs": [],
   "source": [
    "# Create a figure\n",
    "import matplotlib.dates as mdates\n",
    "fig = plt.figure(figsize=(10,12))\n",
    "ax = fig.add_subplot(111, projection='3d')\n",
    "azimuths = dat['data']['azimuth']\n",
    "zeniths = dat['data']['zenith']\n",
    "azimuth_zero = dat['data']['azimuth_zero']\n",
    "X,Y,Z = azimuths,np.repeat(doy_grid[:,np.newaxis],azimuths.shape[1],axis=1),90-zeniths\n",
    "X[Z<0]=np.nan\n",
    "Y[Z<0]=np.nan\n",
    "Z[Z<0]=np.nan\n",
    "ax.plot_surface(X,Y,Z)\n",
    "\n",
    "ax.set_zlim((0,90))\n",
    "ax.set_ylim((0,366))\n",
    "ax.yaxis.set_major_formatter(mdates.DateFormatter('%d-%b'))\n",
    "ax.set_xlim((-180,180))\n",
    "ax.set_xlabel(f\"Azimuth Angle (degrees, + is West of {azimuth_zero})\")\n",
    "# ax.set_ylabel(\"Day of Year\")\n",
    "\n",
    "ax.set_zlabel(\"Altitude angle (degrees)\")\n",
    "ax.set_title(location_name)"
   ]
  },
  {
   "cell_type": "code",
   "execution_count": null,
   "metadata": {},
   "outputs": [],
   "source": [
    "interactive = sun_path_3d(dt0,hod_grid,doy_grid,lat,lon,lon_st,location_name=location_name,convention='sam')\n",
    "# html_str = mpld3.fig_to_html(fig)\n",
    "# with open(\"outputs/interactive_plot.html\", \"w\") as f:\n",
    "#     f.write(html_str)"
   ]
  },
  {
   "cell_type": "markdown",
   "metadata": {},
   "source": [
    "## Computing the annual insolation for Brisbane from a TMY file"
   ]
  },
  {
   "cell_type": "markdown",
   "metadata": {},
   "source": [
    "Load in the NREL TMY file and specify location information. I'm using a location that's closer to the C-block roof than that listed in the TMY file"
   ]
  },
  {
   "cell_type": "code",
   "execution_count": null,
   "metadata": {},
   "outputs": [],
   "source": [
    "tmy,metadata = read_TMY('data/brisbane_tmy.csv')\n",
    "L_tz = 360-150 # E -> subtract from 360\n",
    "L = 360-153.0260 # E -> subtract from 360\n",
    "φ = -27.4705"
   ]
  },
  {
   "cell_type": "markdown",
   "metadata": {},
   "source": [
    "Angles of collector (azimuth is from S)"
   ]
  },
  {
   "cell_type": "code",
   "execution_count": null,
   "metadata": {},
   "outputs": [],
   "source": [
    "β,γ = 22.2518924961955,180\n",
    "ground_albedo = 0.0"
   ]
  },
  {
   "cell_type": "markdown",
   "metadata": {},
   "source": [
    "Compute the POA irradiance and sum to get insolation in kWh (since time steps are one hour). Note that I have to ignore the leapday because the TMY file will not be a leap year, but some of the \"typical\" conditions are taken from leap years. "
   ]
  },
  {
   "cell_type": "code",
   "execution_count": null,
   "metadata": {},
   "outputs": [],
   "source": [
    "irradiance = []\n",
    "az = []\n",
    "zen = []\n",
    "st = []\n",
    "for ii in range(tmy.shape[0]):\n",
    "    DNI,GHI = tmy.DNI[ii],tmy.GHI[ii]\n",
    "    t = tmy.Datetimes[ii]\n",
    "    G,sp = plane_of_array_irradiance(t,DNI,GHI,φ,L,L_tz,β,γ,ρ=ground_albedo,model=\"ISM\",θ_z_max=90,\n",
    "                                  clip_negative=True,ignore_leapday=True)\n",
    "    irradiance.append(G)\n",
    "    az.append(sp['azimuth'])\n",
    "    zen.append(sp['zenith'])\n",
    "    st.append(sp['solar_time'])\n",
    "\n",
    "print(f\"Insolation is: {sum(irradiance)/1000:.2f} kWh/m2/year\")\n",
    "\n",
    "df = pd.DataFrame({'Azimuth':az,'Zenith':zen,'POA Irradiance':irradiance,'solar_time':st})\n",
    "df.to_excel(\"../lectures/Lecture 3 MMPE - solar radiation fundamentals/python_results.xlsx\")"
   ]
  },
  {
   "cell_type": "markdown",
   "metadata": {},
   "source": [
    "Compare with excel calcs"
   ]
  },
  {
   "cell_type": "code",
   "execution_count": null,
   "metadata": {},
   "outputs": [],
   "source": [
    "dat = pd.read_excel(\"../tutorials/Solar Irradiance/poa_tutorial_solutions.xlsx\",\n",
    "                    sheet_name=\"POA_NO_SHADE\",skiprows=[0,1],usecols=[\"POA (ISM) zero corrected\"]).values\n",
    "fig,ax = plt.subplots()\n",
    "ax.plot(dat.flatten()-np.array(irradiance))"
   ]
  },
  {
   "cell_type": "markdown",
   "metadata": {},
   "source": [
    "# References\n",
    " 1. [TU Delft Notes](https://ocw.tudelft.nl/wp-content/uploads/solar_energy_section_5_Appendix.pdf)\n",
    " 2. N. B. John A. Duffie, William A. Beckman, Solar Engineering of Thermal Processes, Photovoltaics and Wind, Fifth. Hoboken, New Jersey: John Wiley & Sons, 2020.\n",
    " 3. G. M. Masters, Renewable and Efficient Electric Power Systems. Newark, UNITED STATES: John Wiley & Sons, Incorporated, 2013.\n",
    " 4. M. Kanoğlu, Y. A. Çengel, and J. M. Cimbala, Fundamentals and Applications of Renewable Energy, 2nd Edition. New York: McGraw-Hill Education, 2023.\n",
    " 5. K. Lovegrove and W. Stein, Eds., Concentrating solar power technology. Woodhead Publishing. \n",
    "\n",
    "\n"
   ]
  }
 ],
 "metadata": {
  "kernelspec": {
   "display_name": "enn554",
   "language": "python",
   "name": "python3"
  },
  "language_info": {
   "codemirror_mode": {
    "name": "ipython",
    "version": 3
   },
   "file_extension": ".py",
   "mimetype": "text/x-python",
   "name": "python",
   "nbconvert_exporter": "python",
   "pygments_lexer": "ipython3",
   "version": "3.10.9"
  }
 },
 "nbformat": 4,
 "nbformat_minor": 2
}
