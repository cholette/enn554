{
 "cells": [
  {
   "cell_type": "markdown",
   "metadata": {},
   "source": [
    "# Code and plots for Wind Lectures"
   ]
  },
  {
   "cell_type": "markdown",
   "metadata": {},
   "source": [
    "\n",
    "The selected location is -38.51226,147.75921, Near the centre of the OEI-01-2022 Part 1 (Gippsland) Offshore Renewable Energy Infrastructure Region [link](https://geoscience-au.maps.arcgis.com/apps/Styler/index.html?appid=5d4b8f1458ee4a12a2070cdd943c0f88). See CSV for location. The data is obtained using the \"Single Point\" option from the [NASA Power DAV](https://power.larc.nasa.gov/data-access-viewer/)."
   ]
  },
  {
   "cell_type": "code",
   "execution_count": null,
   "metadata": {},
   "outputs": [],
   "source": [
    "import enn554.wind as wind\n",
    "import pandas as pd\n",
    "import numpy as np\n",
    "import geopandas as gpd\n",
    "import matplotlib.pyplot as plt\n",
    "import cartopy.crs as ccrs\n",
    "import cartopy.feature as cfeature\n",
    "from cartopy.io.img_tiles import OSM\n",
    "import matplotlib.patches as mpatches\n",
    "import matplotlib.lines as mlines\n",
    "from shapely.geometry import box, Point\n",
    "import cartopy.mpl.ticker as cticker\n",
    "from matplotlib.ticker import FormatStrFormatter"
   ]
  },
  {
   "cell_type": "code",
   "execution_count": null,
   "metadata": {},
   "outputs": [],
   "source": [
    "gdf = gpd.read_file('data/OffshoreRenewable_Energy_Infrastructure_Regions/offshore_renewable_energy_infrastructure_regions.shp')\n",
    "gdf = gdf.to_crs(epsg=4326)\n",
    "gdf = gdf[gdf[\"Status\"] == \"Declared\"] # exclude superceded regions\n",
    "df = pd.read_csv('data/gippsland_offshore.csv',skiprows=14)\n",
    "merra_data = wind.merra_wind_speed_data()\n",
    "merra_data.import_data(\"data/gippsland_offshore.csv\")\n",
    "# lat0,lon0 = merra_data.latitude,merra_data.longitude"
   ]
  },
  {
   "cell_type": "code",
   "execution_count": null,
   "metadata": {},
   "outputs": [],
   "source": [
    "dist,fig,ax = wind.speed_fit(merra_data.data['WS50M'],type='Weibull',plot=True,hist_kwargs={'bins':50})\n",
    "dist_r = wind.speed_fit(merra_data.data['WS50M'],type='Rayleigh',plot=False)\n",
    "\n",
    "x = np.linspace(ax.get_xlim()[0],ax.get_xlim()[1],1000)\n",
    "ax.plot(x,dist_r.pdf(x),'r--',label='Rayleigh')\n",
    "ax.legend()"
   ]
  },
  {
   "cell_type": "markdown",
   "metadata": {},
   "source": [
    "# Directional distribution fit to Gippsland data"
   ]
  },
  {
   "cell_type": "code",
   "execution_count": null,
   "metadata": {},
   "outputs": [],
   "source": [
    "N = 36\n",
    "speed,direction = merra_data.data['WS50M'].values,merra_data.data['WD50M'].values\n",
    "azimuth_edges = np.linspace(0,360,N)\n",
    "wdist = wind.speed_and_direction_dist(type='Weibull',n_az_bins=N)\n",
    "wdist.fit(direction,speed)"
   ]
  },
  {
   "cell_type": "markdown",
   "metadata": {},
   "source": [
    "## Wind rose with fit\n",
    "In the below, the angle corresponds to the direction that the wind is *coming from*, the radius corresponds to percentage of observations that are coming from that direction and the stacked colors represent the wind speed proportion in that direction. "
   ]
  },
  {
   "cell_type": "code",
   "execution_count": null,
   "metadata": {},
   "outputs": [],
   "source": [
    "ax = wind.wind_rose(direction,speed,num_bins=N,s_units='m/s')\n",
    "ax.plot(np.pi/2.0-np.pi/180*wdist.azimuth_bin_centers,wdist.probabilities*100,'r.',label='Estimated probabilities')"
   ]
  },
  {
   "cell_type": "markdown",
   "metadata": {},
   "source": [
    "## Histograms with fit\n",
    "First histogram is the total data and the second one is for a specific direction. "
   ]
  },
  {
   "cell_type": "code",
   "execution_count": null,
   "metadata": {},
   "outputs": [],
   "source": [
    "fig,ax = plt.subplots()\n",
    "ax.hist(speed,density=True,bins=50,label=f'Data (N={len(speed)})')\n",
    "x = np.linspace(ax.get_xlim()[0],ax.get_xlim()[1],1000)\n",
    "ax.plot(x,wdist.pdf(x),'r--',label='Estimated distribution')\n",
    "ax.set_xlabel('Wind speed [m/s]')\n",
    "ax.set_ylabel('Probability density')\n",
    "ax.legend()"
   ]
  },
  {
   "cell_type": "code",
   "execution_count": null,
   "metadata": {},
   "outputs": [],
   "source": [
    "direction_of_interest = 250 # degrees from north, clockwise\n",
    "\n",
    "idx = np.digitize(direction_of_interest,wdist.azimuth_bin_edges,right=True)\n",
    "dir_bins = np.digitize(direction,wdist.azimuth_bin_edges,right=True)\n",
    "dir_bins[dir_bins==len(wdist.azimuth_bin_edges)] = 0\n",
    "if idx == len(wdist.azimuth_bin_edges):\n",
    "    idx = 0\n",
    "\n",
    "fig,ax = plt.subplots()\n",
    "ax.hist(speed[dir_bins==idx],density=True,label=f'Data (N={np.sum(dir_bins==idx)})')\n",
    "x = np.linspace(ax.get_xlim()[0],ax.get_xlim()[1],1000)\n",
    "ax.plot(x,wdist.dists[idx].pdf(x),'r--',label='Estimated distribution')\n",
    "ax.set_xlabel('Wind speed [m/s]')\n",
    "ax.set_ylabel('Probability density')\n",
    "ax.set_title(f'Wind speed {direction_of_interest} degrees CW from north')\n",
    "ax.legend()"
   ]
  },
  {
   "cell_type": "markdown",
   "metadata": {},
   "source": [
    "## Individual direction distributions"
   ]
  },
  {
   "cell_type": "code",
   "execution_count": null,
   "metadata": {},
   "outputs": [],
   "source": [
    "from mpl_toolkits.mplot3d import Axes3D"
   ]
  },
  {
   "cell_type": "code",
   "execution_count": null,
   "metadata": {},
   "outputs": [],
   "source": [
    "x = np.linspace(min(speed),max(speed),1000)\n",
    "fig = plt.figure(figsize=(10,8))\n",
    "ax = fig.add_subplot(111, projection='3d')\n",
    "for ii,d in enumerate(wdist.dists):\n",
    "    # ax.plot(x,d.pdf(x),label=f'direction = {wdist.azimuth_bin_centers[ii]:.1f}')\n",
    "    y = wdist.azimuth_bin_centers[ii]*np.ones_like(x)\n",
    "    ax.plot3D(x,y,d.pdf(x))\n",
    "    ax.set_xlabel('Wind speed [m/s]')\n",
    "    ax.set_ylabel('Wind direction [deg CW from N]')\n",
    "    ax.set_zlabel('Probability density')"
   ]
  },
  {
   "cell_type": "markdown",
   "metadata": {},
   "source": [
    "# Power curve importing\n",
    "See [NREL/turbine-models](https://github.com/NREL/turbine-models/tree/main) GitHub for models. "
   ]
  },
  {
   "cell_type": "markdown",
   "metadata": {},
   "source": [
    "### Listing all turbines of a particular type using NREL's turbine modles"
   ]
  },
  {
   "cell_type": "code",
   "execution_count": null,
   "metadata": {},
   "outputs": [],
   "source": [
    "from turbine_models.parser import Turbines\n",
    "turb = Turbines()\n",
    "turb.turbines(group='offshore')"
   ]
  },
  {
   "cell_type": "code",
   "execution_count": null,
   "metadata": {},
   "outputs": [],
   "source": [
    "power_curve = wind.turbine()\n",
    "power_curve.import_nrel_power_curve('IEA_Reference_15MW_240')\n",
    "power_curve.plot(nonzero_only=False)"
   ]
  },
  {
   "cell_type": "markdown",
   "metadata": {},
   "source": [
    "# Power for selected location and turbine power curve"
   ]
  },
  {
   "cell_type": "code",
   "execution_count": null,
   "metadata": {},
   "outputs": [],
   "source": [
    "units = \"MW\" # MW, kW, W\n",
    "power,prob = wind.power_cdf(wdist,power_curve,n_bins=1000,power_units=units)\n",
    "fig,ax = plt.subplots()\n",
    "ax.step(power,prob,where='post')\n",
    "ax.set_xlabel(f'Power [{units}]')\n",
    "ax.set_ylabel('Power CDF')\n",
    "ax.set_ylim((-0.01,1.01))\n",
    "ax.grid(True)"
   ]
  },
  {
   "cell_type": "markdown",
   "metadata": {},
   "source": [
    "# Aside: Testing the fitting of the directional Weibull"
   ]
  },
  {
   "cell_type": "code",
   "execution_count": null,
   "metadata": {},
   "outputs": [],
   "source": [
    "import scipy.stats as stats"
   ]
  },
  {
   "cell_type": "code",
   "execution_count": null,
   "metadata": {},
   "outputs": [],
   "source": [
    "N = 5\n",
    "probabilities = stats.binom(N-1,0.5).pmf(np.arange(N))\n",
    "wdist2 = wind.speed_and_direction_dist( type='Weibull',\n",
    "                                        shapes=[2,2,3,4,4],\n",
    "                                        scales=[10,5,30,30,30],\n",
    "                                        n_az_bins=N,\n",
    "                                        probabilities=probabilities)\n",
    "\n",
    "fig,ax = plt.subplots(nrows=2)\n",
    "dirs,speeds = wdist2.rvs(1000)\n",
    "ax[0].hist(speeds,density=True,label='Simulated',bins=None)\n",
    "x = np.linspace(ax[0].get_xlim()[0],ax[0].get_xlim()[1],1000)\n",
    "ax[0].plot(x,wdist2.pdf(x),'r--',label='True distribution')\n",
    "values,counts = np.unique(dirs,return_counts=True)\n",
    "ax[1].bar(x=wdist2.azimuth_bin_centers,width=360/(N+1),height=counts/sum(counts),label='Simulated')\n",
    "ax[1].bar(x=wdist2.azimuth_bin_centers,height=probabilities,width=360/(N+1),color=\"red\",alpha=0.5,label='True distribution')"
   ]
  },
  {
   "cell_type": "code",
   "execution_count": null,
   "metadata": {},
   "outputs": [],
   "source": [
    "wdist_fitted = wind.speed_and_direction_dist(type='Weibull',n_az_bins=N)\n",
    "wdist_fitted.fit(dirs,speeds)"
   ]
  },
  {
   "cell_type": "code",
   "execution_count": null,
   "metadata": {},
   "outputs": [],
   "source": [
    "fig,ax = plt.subplots(nrows=2)\n",
    "ax[0].hist(speeds,density=True,label='Simulated',bins=None)\n",
    "x = np.linspace(ax[0].get_xlim()[0],ax[0].get_xlim()[1],1000)\n",
    "ax[0].plot(x,wdist2.pdf(x),'r--',label='True distribution')\n",
    "ax[0].plot(x,wdist_fitted.pdf(x),'g:',label='Estimated distribution')\n",
    "dir_bins = np.digitize(dirs,wdist2.azimuth_bin_edges,right=True)\n",
    "counts = np.bincount(dir_bins,minlength=len(probabilities))\n",
    "ax[1].bar(x=wdist2.azimuth_bin_centers,width=360/N,height=counts/sum(counts),label='Simulated')\n",
    "ax[1].bar(x=wdist2.azimuth_bin_centers,height=probabilities,width=360/2/N,color=\"red\",alpha=0.3,label='True distribution')\n",
    "ax[1].bar(x=wdist2.azimuth_bin_centers,height=wdist_fitted.probabilities,width=360/4/N,color=\"green\",alpha=0.3,label='Estimated distribution')\n",
    "ax[0].legend()\n",
    "ax[1].legend()"
   ]
  }
 ],
 "metadata": {
  "kernelspec": {
   "display_name": "egb351",
   "language": "python",
   "name": "python3"
  },
  "language_info": {
   "codemirror_mode": {
    "name": "ipython",
    "version": 3
   },
   "file_extension": ".py",
   "mimetype": "text/x-python",
   "name": "python",
   "nbconvert_exporter": "python",
   "pygments_lexer": "ipython3",
   "version": "3.10.9"
  }
 },
 "nbformat": 4,
 "nbformat_minor": 2
}
