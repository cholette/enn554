{
 "cells": [
  {
   "cell_type": "markdown",
   "metadata": {},
   "source": [
    "# Numerical computation of shading"
   ]
  },
  {
   "cell_type": "markdown",
   "metadata": {},
   "source": [
    "## Creating the scene to compute view factors of sky-panel"
   ]
  },
  {
   "cell_type": "code",
   "execution_count": null,
   "metadata": {},
   "outputs": [],
   "source": [
    "import pyvista as pviz\n",
    "from datetime import datetime, timezone, timedelta\n",
    "import sys\n",
    "import numpy as np\n",
    "from enn554.collector_geometry import flat_panel_unit_vectors, sky_view_factor\n",
    "from enn554.math import cosd, sind\n",
    "from enn554.sun import solar_vector_from_angles, sun_path_diagram\n",
    "# pviz.set_jupyter_backend('trame') "
   ]
  },
  {
   "cell_type": "code",
   "execution_count": null,
   "metadata": {},
   "outputs": [],
   "source": [
    "β,γ = 0,180-43\n",
    "h,w = 1.6,1.0\n",
    "H,W = 20.0,15.0\n",
    "x0p = 10\n",
    "sky_rad = 100\n",
    "wall_rotation = 43\n",
    "n,u,v = flat_panel_unit_vectors(β,γ)\n",
    "n_wall = np.array([sind(wall_rotation),-cosd(wall_rotation),0]) # wall orientation (zero corresponds to a face that is due north)\n",
    "x0,y0,z0 = x0p*n_wall + np.array([0,0,-h/2*u[-1]])"
   ]
  },
  {
   "cell_type": "code",
   "execution_count": null,
   "metadata": {},
   "outputs": [],
   "source": [
    "array = pviz.Plane(i_size=w,j_size=h,i_resolution=1,j_resolution=1)\n",
    "wall = pviz.Plane(center=(0,0,H/2),direction=n_wall,i_size=H,j_size=W,i_resolution=1,j_resolution=1)\n",
    "sky = pviz.Sphere(center=(x0,y0,z0),start_phi=0,end_phi=90,radius=sky_rad,phi_resolution=20,theta_resolution=20)\n",
    "sky.flip_normals() # normals of cells point in\n",
    "print(f\"Area of panel: {array.area}\")"
   ]
  },
  {
   "cell_type": "code",
   "execution_count": null,
   "metadata": {},
   "outputs": [],
   "source": [
    "array.rotate_x(β,inplace=True)\n",
    "array.rotate_vector([0,0,1],-γ,inplace=True)\n",
    "array.translate([x0,y0,z0],inplace=True)"
   ]
  },
  {
   "cell_type": "code",
   "execution_count": null,
   "metadata": {},
   "outputs": [],
   "source": [
    "np.dot(array.cell_normals,n) # should be one if it aligns with the expected normal"
   ]
  },
  {
   "cell_type": "code",
   "execution_count": null,
   "metadata": {},
   "outputs": [],
   "source": [
    "array.points"
   ]
  },
  {
   "cell_type": "code",
   "execution_count": null,
   "metadata": {},
   "outputs": [],
   "source": [
    "obstacles = pviz.MultiBlock([wall])"
   ]
  },
  {
   "cell_type": "code",
   "execution_count": null,
   "metadata": {},
   "outputs": [],
   "source": [
    "pl = pviz.Plotter()\n",
    "pl.add_mesh(array,show_edges=True,color=\"red\",lighting=False)\n",
    "# pl.add_mesh(wall)\n",
    "pl.add_mesh(obstacles)\n",
    "pl.add_arrows(array.cell_centers().points, array.cell_normals, mag=1, color='red')\n",
    "pl.add_arrows(wall.cell_centers().points, wall.cell_normals, mag=1, color='blue')\n",
    "pl.show_grid()\n",
    "# pl.view_xy()\n",
    "pl.show()"
   ]
  },
  {
   "cell_type": "code",
   "execution_count": null,
   "metadata": {},
   "outputs": [],
   "source": [
    "pl = pviz.Plotter()\n",
    "pl.add_mesh(array,show_edges=True,color=\"red\",lighting=False)\n",
    "pl.add_mesh(obstacles)\n",
    "pl.add_mesh(sky,opacity=0.5,show_edges=True)\n",
    "pl.add_arrows(sky.cell_centers().points, sky.cell_normals, mag=1, color='blue')\n",
    "pl.add_arrows(array.cell_centers().points, array.cell_normals, mag=1, color='red')\n",
    "pl.show()"
   ]
  },
  {
   "cell_type": "markdown",
   "metadata": {},
   "source": [
    "## Compute view factor from sky-array\n",
    "The wall is set as an obstruction"
   ]
  },
  {
   "cell_type": "code",
   "execution_count": null,
   "metadata": {},
   "outputs": [],
   "source": [
    "F = sky_view_factor(array,obstacles,sky)"
   ]
  },
  {
   "cell_type": "code",
   "execution_count": null,
   "metadata": {},
   "outputs": [],
   "source": [
    "Fsa = F.sum(axis=1)\n",
    "sky.cell_data['Panel View Factor'] = Fsa\n",
    "sky.cell_data['Blocked'] = np.float64(Fsa==0.0)"
   ]
  },
  {
   "cell_type": "code",
   "execution_count": null,
   "metadata": {},
   "outputs": [],
   "source": [
    "print(f\"Sky view factor (pyViewFactor): {Fsa.sum():.3e}\")\n",
    "print(f\"Sky view factor (analytical): {0.5*(1+np.cos(np.deg2rad(β))):.3e}\")\n",
    "print(f\"Bs factor: {Fsa.sum()/(0.5*(1+np.cos(np.deg2rad(β)))):.3e}\")"
   ]
  },
  {
   "cell_type": "code",
   "execution_count": null,
   "metadata": {},
   "outputs": [],
   "source": [
    "pl = pviz.Plotter()\n",
    "pl.add_mesh(array,show_edges=True,color=\"red\",lighting=False)\n",
    "pl.add_mesh(wall)\n",
    "pl.add_mesh(sky,scalars=\"Panel View Factor\",show_edges=True,opacity=1.0)\n",
    "pl.show()"
   ]
  },
  {
   "cell_type": "code",
   "execution_count": null,
   "metadata": {},
   "outputs": [],
   "source": [
    "pl = pviz.Plotter()\n",
    "pl.add_mesh(array,show_edges=True,color=\"red\",lighting=False)\n",
    "pl.add_mesh(obstacles)\n",
    "pl.add_mesh(sky,scalars=\"Blocked\",show_edges=False,opacity=0.25)\n",
    "v = -array.cell_normals[0]\n",
    "pl.show()"
   ]
  },
  {
   "cell_type": "markdown",
   "metadata": {},
   "source": [
    "## Computing view factors for different $\\beta$ and $\\gamma$ combinations for a particular x0"
   ]
  },
  {
   "cell_type": "code",
   "execution_count": null,
   "metadata": {},
   "outputs": [],
   "source": [
    "n_tilt = 5\n",
    "n_az = 5\n",
    "tilt_grid = np.linspace(0,90,n_tilt)\n",
    "az_grid = np.linspace(-180,180,n_az)\n",
    "Bs = np.zeros((n_tilt,n_az))\n",
    "for ii,b in enumerate(tilt_grid):\n",
    "    for jj,g in enumerate(az_grid):\n",
    "        na,_,_ = flat_panel_unit_vectors(b,g)\n",
    "        array = pviz.Plane(center=(x0,y0,z0),direction=na,i_size=h,j_size=w,i_resolution=1,j_resolution=1)\n",
    "        F = sky_view_factor(array,obstacles,sky)\n",
    "        no_obstruct_vf = 0.5*(1+cosd(b))\n",
    "        if b==0:\n",
    "            Bs[ii,:] = F.sum()/no_obstruct_vf\n",
    "            break\n",
    "        else:\n",
    "            Bs[ii,jj] = F.sum()/no_obstruct_vf\n",
    "\n",
    "        # print(fr\"VF for β={b:.1f},γ={g:.1f}: {vfs[ii,jj]:.3e}\")"
   ]
  },
  {
   "cell_type": "markdown",
   "metadata": {},
   "source": [
    "Visualization of the Bs factors"
   ]
  },
  {
   "cell_type": "code",
   "execution_count": null,
   "metadata": {},
   "outputs": [],
   "source": [
    "import matplotlib.pyplot as plt\n",
    "from matplotlib import cm\n",
    "tilt_grid = np.linspace(0,90,n_tilt)\n",
    "az_grid = np.linspace(-180,180,n_az)\n",
    "x,y = np.meshgrid(tilt_grid,az_grid)\n",
    "\n",
    "fig,ax = plt.subplots(subplot_kw={\"projection\": \"3d\"})\n",
    "ax.plot_surface(x,y,Bs,cmap=cm.coolwarm)\n",
    "ax.set_xlabel(r'$\\beta$')\n",
    "ax.set_ylabel(r'$\\gamma$')\n",
    "ax.set_zlabel(r'$B_s$')\n",
    "\n",
    "fig,ax = plt.subplots()\n",
    "CS = ax.contour(x,y,Bs,cmap=cm.coolwarm)\n",
    "ax.clabel(CS, inline=True, fontsize=10)\n",
    "ax.set_xlabel(r'$\\beta$')\n",
    "ax.set_ylabel(r'$\\gamma$')\n",
    "ax.set_xlim((-5,95))\n",
    "ax.set_ylim((-195,195))\n",
    "ax.set_title(rf\"$B_s$ for at distance of $x_0$={x0p:.1f} from the wall\")"
   ]
  },
  {
   "cell_type": "markdown",
   "metadata": {},
   "source": [
    "Export to an excel file"
   ]
  },
  {
   "cell_type": "code",
   "execution_count": null,
   "metadata": {},
   "outputs": [],
   "source": [
    "import pandas as pd\n",
    "from scipy.interpolate import RegularGridInterpolator\n",
    "tilt_grid = np.linspace(0,90,n_tilt)\n",
    "az_grid = np.linspace(-180,180,n_az)\n",
    "values = np.hstack([Bs,Bs[:,1][:,np.newaxis]])\n",
    "cols = np.hstack([az_grid,az_grid[-1] + (az_grid[-1]+az_grid[1])])\n",
    "\n",
    "df = pd.DataFrame(values,index=tilt_grid,columns=cols)\n",
    "df.to_excel('outputs/bs_lookups.xlsx')\n",
    "\n",
    "xg,yg = np.meshgrid(df.index,df.columns)\n",
    "fun = RegularGridInterpolator((df.index,df.columns),df.values)\n",
    "fun((20,180))"
   ]
  },
  {
   "cell_type": "markdown",
   "metadata": {},
   "source": [
    "## Assess sun positions that are blocked\n",
    "Note that [Wikipedia was helpful](https://en.wikipedia.org/wiki/Line%E2%80%93plane_intersection). We parameterize the wall plane as\n",
    "$$ (\\vec{p}-\\vec{p}_0)\\cdot \\vec{n}_{wall}$$\n",
    "where $n_{wall}$ is the plane normal, $p$ is an (unknown) point on the plane, and $p_0$ is a known point on the plane. The test line is parameterized as \n",
    "$$ \\vec{p} = \\vec{\\ell}_0 + d\\, \\vec{n}_{sun} $$\n",
    "where $\\vec{\\ell}_0$ is the center of the array and $\\vec{n}_{sun}$ is a vector that points from the array centre to the sun. Here, $d \\in \\mathbb{R}$ is a scalar that is positive if the plane intersection is in front of the plane and negative if it is behind the plane. We can set these two expressions equal to each other and solve for $d$ to obtain\n",
    "$$ (\\vec{\\ell}_0 + d\\, \\vec{n}_{sun}- \\vec{p}_0)\\cdot \\vec{n}_{wall} = 0 \\\\[2ex]\n",
    "   d = \\frac{(\\vec{p}_0-\\vec{\\ell}_0)\\cdot \\vec{n}_{wall}}{\\vec{n}_{sun}\\cdot \\vec{n}_{wall}}\n",
    "$$\n",
    "\n"
   ]
  },
  {
   "cell_type": "code",
   "execution_count": null,
   "metadata": {},
   "outputs": [],
   "source": [
    "p0 = np.array([0,0,0])\n",
    "L0 = np.array([x0,y0,z0])\n",
    "nz,na = 50,100\n",
    "sun_zenith_grid = np.linspace(0,90,nz)\n",
    "sun_azimuth_grid = np.linspace(-180,180,na)\n",
    "blocked = np.zeros((nz,na))\n",
    "Rz = np.array([ [cosd(60),sind(60),0],\n",
    "                [-sind(60),cosd(60),0],\n",
    "                [0,0,1]])\n",
    "bnds = Rz@np.array([0,W/2,H])\n",
    "for ii,z in enumerate(sun_zenith_grid):\n",
    "    for jj,a in enumerate(sun_azimuth_grid):\n",
    "        n_sun = solar_vector_from_angles(a,z,convention='sam')\n",
    "        d = np.dot((p0-L0),n_wall)/np.dot(n_sun,n_wall)\n",
    "        if d > 0:\n",
    "            p = L0 + d*n_sun\n",
    "            if ( np.abs(p[1]) <= bnds[1] ) & (p[2] < bnds[2]):\n",
    "                blocked[ii,jj] = 1\n",
    "\n",
    "blocked.sum()"
   ]
  },
  {
   "cell_type": "code",
   "execution_count": null,
   "metadata": {},
   "outputs": [],
   "source": [
    "z,a = np.meshgrid(sun_zenith_grid,sun_azimuth_grid)\n",
    "X = sky_rad*sind(z)*sind(-a)\n",
    "Y = -sky_rad*sind(z)*cosd(-a)\n",
    "Z = sky_rad*cosd(z)\n",
    "fig,ax = plt.subplots(subplot_kw={\"projection\": \"3d\"})\n",
    "ax.scatter(X,Y,Z,c=blocked.T) \n",
    "ax.view_init(azim=180)\n",
    "ax.set_xlabel('x')\n",
    "ax.set_ylabel('y')"
   ]
  },
  {
   "cell_type": "code",
   "execution_count": null,
   "metadata": {},
   "outputs": [],
   "source": [
    "row,col = np.where(blocked==1)\n",
    "zeniths_blocked = 90*np.ones_like(sun_azimuth_grid)\n",
    "uc = np.unique(col)\n",
    "for ii,cc in enumerate(sun_azimuth_grid):\n",
    "    if ii in col:\n",
    "        idx = row[col==ii].min()\n",
    "        zeniths_blocked[ii] = sun_zenith_grid[idx]\n",
    "\n",
    "location_name = \"Brisbane, Australia\"\n",
    "lat = -27.4705\n",
    "lon_st = 360-150 # E -> subtract from 360\n",
    "lon = 360-153.0260 # E -> subtract from 360\n",
    "utc_offset = 10\n",
    "\n",
    "summer_solstice = datetime(2024,6,20)\n",
    "winter_solstice = datetime(2024,12,21)\n",
    "dts = [summer_solstice,winter_solstice]\n",
    "dts_of_interest = np.array([dt.timetuple().tm_yday for dt in dts],dtype=np.float64)  # day of year\n",
    "doy_grid = np.arange(0,366,36,dtype=np.float64)\n",
    "\n",
    "for d in dts_of_interest:\n",
    "    if np.abs(doy_grid-d).min() < 10:   \n",
    "        idx = np.abs(doy_grid-d).argmin()\n",
    "        doy_grid = np.delete(doy_grid,idx)\n",
    "    doy_grid = np.r_[doy_grid,d]\n",
    "doy_grid = np.sort(doy_grid)\n",
    "\n",
    "hod_grid = np.arange(3,22,0.1)\n",
    "year = datetime.now().year\n",
    "dt0 = datetime(year,1,1,0,0,0,tzinfo=timezone(timedelta(hours=utc_offset)))\n",
    "out = sun_path_diagram(dt0,hod_grid,doy_grid,lat,lon,lon_st,force_south_as_zero=False,location_name=location_name)\n",
    "fig,ax = out['figure_handle'],out['axis_handle']\n",
    "\n",
    "\n",
    "if out['data']['azimuth_zero']== 'North':\n",
    "    az_grid = []\n",
    "    for γ in sun_azimuth_grid:\n",
    "        if γ<0: # east of north\n",
    "            az_grid.append(-180 - γ)\n",
    "        else: # west of north\n",
    "            az_grid.append(180 - γ)\n",
    "else:\n",
    "    az_grid = sun_azimuth_grid\n",
    "\n",
    "ax.fill_between(x=az_grid,y1=90-zeniths_blocked,y2=np.zeros_like(zeniths_blocked),alpha=0.75,zorder=10,label='blocked by wall')\n",
    "ax.set_ylim((0,90))\n",
    "ax.set_xlim((-180,180))\n",
    "fig.tight_layout()\n",
    "ax.legend()"
   ]
  },
  {
   "cell_type": "code",
   "execution_count": null,
   "metadata": {},
   "outputs": [],
   "source": [
    "df = pd.DataFrame(blocked,index=sun_zenith_grid,columns=sun_azimuth_grid)\n",
    "df.to_excel('outputs/blocked.xlsx')"
   ]
  }
 ],
 "metadata": {
  "kernelspec": {
   "display_name": "egb351",
   "language": "python",
   "name": "python3"
  },
  "language_info": {
   "codemirror_mode": {
    "name": "ipython",
    "version": 3
   },
   "file_extension": ".py",
   "mimetype": "text/x-python",
   "name": "python",
   "nbconvert_exporter": "python",
   "pygments_lexer": "ipython3",
   "version": "3.10.9"
  }
 },
 "nbformat": 4,
 "nbformat_minor": 2
}
