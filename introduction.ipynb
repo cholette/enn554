{
 "cells": [
  {
   "cell_type": "markdown",
   "metadata": {},
   "source": [
    "# Lecture 1: Unit introduction"
   ]
  },
  {
   "cell_type": "markdown",
   "metadata": {},
   "source": [
    "## Total energy supply\n",
    "Total energy supply (TES) includes all the energy produced in or imported to a country, minus that which is exported or stored. It represents all the energy required to supply end users in the country. Some of these energy sources are used directly while most are transformed into fuels or electricity for final consumption. Description and data from [IEA](https://www.iea.org/countries/australia/energy-mix#how-is-energy-used-in-australia)."
   ]
  },
  {
   "cell_type": "code",
   "execution_count": null,
   "metadata": {},
   "outputs": [],
   "source": [
    "import matplotlib.pyplot as plt\n",
    "import numpy as np\n",
    "import pandas as pd"
   ]
  },
  {
   "cell_type": "code",
   "execution_count": null,
   "metadata": {},
   "outputs": [],
   "source": [
    "df = pd.read_csv('data/International Energy Agency - total energy supply in Australia.csv')\n",
    "df['Value'] = df['Value']/1e6 # TJ to exaoules\n",
    "df.rename(columns={'Value': 'Energy Supply (EJ)','total energy supply in Australia': 'Primary Source'}, inplace=True)\n",
    "df.loc[df['Primary Source']==\"Geothermal, solar, wind, etc.\",'Primary Source'] = \"Renewables\""
   ]
  },
  {
   "cell_type": "code",
   "execution_count": null,
   "metadata": {},
   "outputs": [],
   "source": [
    "pt = df.pivot_table(index='Year', columns='Primary Source', values='Energy Supply (EJ)', aggfunc='sum')\n",
    "cols = np.flip(['Renewables','Hydro','Biofuels and waste', 'Coal', 'Natural gas', 'Oil'])\n",
    "pt = pt[list(cols)]"
   ]
  },
  {
   "cell_type": "code",
   "execution_count": null,
   "metadata": {},
   "outputs": [],
   "source": [
    "ax = pt.plot(kind='area', stacked=True,figsize=(16,9),color=['brown','red','grey','purple','blue','green'])\n",
    "ax.set_xlabel('Year',fontsize=18)\n",
    "ax.tick_params(axis='both',labelsize=16)\n",
    "ax.set_ylabel('Total Energy Supply (Exajoules)',fontsize=18)\n",
    "ax.set_xlim(2000,2023)"
   ]
  },
  {
   "cell_type": "markdown",
   "metadata": {},
   "source": [
    "## Electricity Generation\n",
    "Another important form of transformation is the generation of electricity. Thermal power plants generate electricity by harnessing the heat of burning fuels or nuclear reactions – during which up to half of their energy content is lost. Renewable power sources generate electricity directly from natural forces such as the sun, wind, or the movement of water. Description and data from [IEA](https://www.iea.org/countries/australia/energy-mix#how-is-energy-used-in-australia)"
   ]
  },
  {
   "cell_type": "code",
   "execution_count": null,
   "metadata": {},
   "outputs": [],
   "source": [
    "df = pd.read_csv('data/International Energy Agency - electricity generation in Australia.csv')\n",
    "df['Value'] = df['Value']/1e3 # GWh to TWh\n",
    "df.rename(columns={'Value': 'Electricty Generation (TWh)','electricity generation in Australia': 'Primary Source'}, inplace=True)\n",
    "df.loc[df['Primary Source']==\"Geothermal, solar, wind, etc.\",'Primary Source'] = \"Renewables\""
   ]
  },
  {
   "cell_type": "code",
   "execution_count": null,
   "metadata": {},
   "outputs": [],
   "source": [
    "df"
   ]
  },
  {
   "cell_type": "code",
   "execution_count": null,
   "metadata": {},
   "outputs": [],
   "source": [
    "pt = df.pivot_table(index='Year', columns='Primary Source', values='Electricty Generation (TWh)', aggfunc='sum')\n",
    "cols = np.flip(['Solar PV','Wind','Solar thermal','Hydro','Biofuels', 'Coal', 'Natural gas', 'Oil'])\n",
    "pt = pt[list(cols)]\n",
    "ax = pt.plot(kind='area', stacked=True,figsize=(16,9),color=['brown','red','grey','purple','blue','orange','green','yellow'])\n",
    "ax.set_xlabel('Year',fontsize=18)\n",
    "ax.tick_params(axis='both',labelsize=16)\n",
    "ax.set_ylabel('Electricity Generation (TWh)',fontsize=18)\n",
    "ax.set_xlim(2000,2023)\n",
    "# plt.grid(True, linestyle=\"--\", alpha=0.5)"
   ]
  }
 ],
 "metadata": {
  "kernelspec": {
   "display_name": "egb351",
   "language": "python",
   "name": "python3"
  },
  "language_info": {
   "codemirror_mode": {
    "name": "ipython",
    "version": 3
   },
   "file_extension": ".py",
   "mimetype": "text/x-python",
   "name": "python",
   "nbconvert_exporter": "python",
   "pygments_lexer": "ipython3",
   "version": "3.10.9"
  }
 },
 "nbformat": 4,
 "nbformat_minor": 2
}
