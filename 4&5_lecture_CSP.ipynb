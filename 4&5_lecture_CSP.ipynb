{
 "cells": [
  {
   "cell_type": "markdown",
   "metadata": {},
   "source": [
    "# Lecture 4 & 5 plots and analysis"
   ]
  },
  {
   "cell_type": "markdown",
   "metadata": {},
   "source": [
    "## CSP Basics"
   ]
  },
  {
   "cell_type": "markdown",
   "metadata": {},
   "source": [
    "### $\\eta_{th}$ as a function of C, $\\epsilon$, and $T_{r}$"
   ]
  },
  {
   "cell_type": "code",
   "execution_count": null,
   "metadata": {},
   "outputs": [],
   "source": [
    "from egb351.constants import h,c,kB,σ\n",
    "from egb351.sun import _set_azimuth_zero_to_north,solar_vector_from_angles, angle_of_incidence\n",
    "from pysolar import solar\n",
    "from datetime import datetime, timezone, timedelta\n",
    "import numpy as np\n",
    "import matplotlib.pyplot as plt\n",
    "from egb351.math import tand, cosd, sind, vecnorm, proj\n",
    "ε,h = 0.94,0\n",
    "T_amb,T_sky = 300,300-10\n",
    "η_opt = 0.9\n",
    "DNI = 1000\n",
    "η_th = lambda C,Tr,ε: 1 - (σ*ε*(Tr**4-T_sky**4)+h*(Tr-T_amb))/(η_opt*C*DNI)\n",
    "η_carnot = lambda Tr: (1-T_amb/Tr)\n",
    "η_ideal = lambda C,Tr,ε: η_opt *η_carnot(Tr) * η_th(C,Tr,ε)\n",
    "\n"
   ]
  },
  {
   "cell_type": "markdown",
   "metadata": {},
   "source": [
    "### $C$ and $T_r$"
   ]
  },
  {
   "cell_type": "code",
   "execution_count": null,
   "metadata": {},
   "outputs": [],
   "source": [
    "CRs = [1,2,5,10,20,50,100,200,500,1000,2000,5000,10000]\n",
    "Trs = np.linspace(T_sky,1500,5000)\n",
    "norm = plt.Normalize(0,max(np.log10(CRs)))\n",
    "\n",
    "height = 5.0\n",
    "fig,ax = plt.subplots(figsize=(16/9*height,height))\n",
    "for c in CRs:\n",
    "    η = η_th(c,Trs,ε)\n",
    "    color = plt.cm.viridis(norm(np.log10(c)))\n",
    "    ax.plot(Trs[η>=0],η[η>=0],color=color)\n",
    "\n",
    "ax.set_ylim((0,1))\n",
    "ax.set_xlim((T_sky,Trs.max()))\n",
    "ax.set_xlabel('Receiver temperature, $T_r$ (K)')\n",
    "ax.set_ylabel(r'Receiver efficiency, $\\eta_{rec}$')\n",
    "ax.set_title(f'The effect of Concentration Ratio and Receiver Temperature \\n $\\\\epsilon$={ε:.2f}, $T_{{amb}}$={T_amb:.0f}K, $T_{{sky}}$={T_sky:.0f}K, $\\\\eta_{{opt}}$={η_opt:.2f}, DNI={DNI:.0f} W/$m^2$',\n",
    "             fontsize=12)\n",
    "\n",
    "sm = plt.cm.ScalarMappable(cmap='viridis', norm=norm)\n",
    "sm.set_array([])\n",
    "cbar = plt.colorbar(sm,ax=ax)\n",
    "c_ticks = cbar.ax.set_yticks(np.log10(CRs))\n",
    "cbar.ax.set_yticklabels(CRs)\n",
    "cbar.ax.set_ylabel(\"Concentration Ratio\")"
   ]
  },
  {
   "cell_type": "markdown",
   "metadata": {},
   "source": [
    "### Add emissivity effect"
   ]
  },
  {
   "cell_type": "code",
   "execution_count": null,
   "metadata": {},
   "outputs": [],
   "source": [
    "from matplotlib.lines import Line2D\n",
    "CRs = [1,10,100,1000,10000]\n",
    "Trs = np.linspace(T_sky,1500,5000)\n",
    "εs = [0.94,0.5,0.1]\n",
    "styles = ['-','--',':']\n",
    "norm = plt.Normalize(0,max(np.log10(CRs)))\n",
    "\n",
    "height = 5.0\n",
    "fig,ax = plt.subplots(figsize=(16/9*height,height))\n",
    "legend_elements = []\n",
    "for ii,c in enumerate(CRs):\n",
    "    for jj,e in enumerate(εs):\n",
    "        η = η_th(c,Trs,e)\n",
    "        color = plt.cm.viridis(norm(np.log10(c)))\n",
    "        le = ax.plot(Trs[η>=0],η[η>=0],color=color,linestyle=styles[jj])\n",
    "        if ii == 1:\n",
    "            legend_elements.append(Line2D([0],[0],color='black',linestyle=styles[jj],label=f\"$\\\\epsilon$={e:.2f}\"))\n",
    "\n",
    "ax.legend(handles=legend_elements)    \n",
    "\n",
    "ax.set_ylim((0,1))\n",
    "ax.set_xlim((T_sky,Trs.max()))\n",
    "ax.set_xlabel('Receiver temperature, $T_r$ (K)')\n",
    "ax.set_ylabel(r'Receiver efficiency, $\\eta_{rec}$')\n",
    "title = f'The effect of Concentration Ratio, Emissivity, and Receiver Temperature \\n '\n",
    "title += f'$T_{{amb}}$={T_amb:.0f}K, $T_{{sky}}$={T_sky:.0f}K, $\\\\eta_{{opt}}$={η_opt:.2f}, DNI={DNI:.0f} W/$m^2$'\n",
    "ax.set_title(title,fontsize=12)\n",
    "\n",
    "sm = plt.cm.ScalarMappable(cmap='viridis', norm=norm)\n",
    "sm.set_array([])\n",
    "cbar = plt.colorbar(sm,ax=ax)\n",
    "c_ticks = cbar.ax.set_yticks(np.log10(CRs))\n",
    "cbar.ax.set_yticklabels(CRs)\n",
    "cbar.ax.set_ylabel(\"Concentration Ratio\")\n"
   ]
  },
  {
   "cell_type": "markdown",
   "metadata": {},
   "source": [
    "### Ideal efficiency"
   ]
  },
  {
   "cell_type": "code",
   "execution_count": null,
   "metadata": {},
   "outputs": [],
   "source": [
    "CRs = [1,2,5,10,20,50,100,200,500,1000,2000,5000,10000]\n",
    "Trs = np.linspace(T_sky,1500,5000)\n",
    "norm = plt.Normalize(0,max(np.log10(CRs)))\n",
    "\n",
    "height = 5.0\n",
    "fig,ax = plt.subplots(figsize=(16/9*height,height))\n",
    "for c in CRs:\n",
    "    η = η_ideal(c,Trs,ε)\n",
    "    color = plt.cm.viridis(norm(np.log10(c)))\n",
    "    ax.plot(Trs[η>=0],η[η>=0],color=color)\n",
    "\n",
    "ax.plot(Trs,η_carnot(Trs),label='Carnot',color='black')\n",
    "\n",
    "ax.set_ylim((0,1))\n",
    "ax.set_xlim((T_sky,Trs.max()))\n",
    "ax.set_xlabel('Receiver temperature, $T_r$ (K)')\n",
    "ax.set_ylabel(r'Ideal efficiency, $\\eta_{ideal}$')\n",
    "ax.set_title(f'Collection + conversion (i.e. ideal) efficiency of the system \\n $\\\\epsilon$={ε:.2f}, $T_{{amb}}$={T_amb:.0f}K, $T_{{sky}}$={T_sky:.0f}K, $\\\\eta_{{opt}}$={η_opt:.2f}, DNI={DNI:.0f} W/$m^2$',\n",
    "             fontsize=12)\n",
    "\n",
    "sm = plt.cm.ScalarMappable(cmap='viridis', norm=norm)\n",
    "sm.set_array([])\n",
    "cbar = plt.colorbar(sm,ax=ax)\n",
    "c_ticks = cbar.ax.set_yticks(np.log10(CRs))\n",
    "cbar.ax.set_yticklabels(CRs)\n",
    "cbar.ax.set_ylabel(\"Concentration Ratio\")\n",
    "ax.legend()"
   ]
  },
  {
   "cell_type": "markdown",
   "metadata": {},
   "source": [
    "## Parabolic trough"
   ]
  },
  {
   "cell_type": "markdown",
   "metadata": {},
   "source": [
    "### Geometry"
   ]
  },
  {
   "cell_type": "code",
   "execution_count": null,
   "metadata": {},
   "outputs": [],
   "source": [
    "W = 1\n",
    "ratio = [1.9,0.933,0.603,0.25,0.1442,0.067]\n",
    "fig,ax = plt.subplots()\n",
    "\n",
    "for ii,r in enumerate(ratio):\n",
    "    f = r*W\n",
    "    ψ_rim = np.arctan2(8*r,16*r**2-1)*180/np.pi\n",
    "    ψ = np.linspace(-ψ_rim,ψ_rim,1000)\n",
    "    pp = 2*f/(1+cosd(ψ))\n",
    "    if ii == 1:\n",
    "        ax.plot(pp*sind(ψ),-pp*cosd(ψ),color='black',label='parabola')\n",
    "        ax.plot(0,0,'.',markersize=10,color='blue',label='Focus')\n",
    "    else:\n",
    "        ax.plot(pp*sind(ψ),-pp*cosd(ψ),color='black',label=None)\n",
    "    \n",
    "    ax.plot([0,pp[-1]*sind(ψ[-1])],[0,-pp[-1]*cosd(ψ[-1])],ls=':',linewidth=0.5,color='green')\n",
    "    ax.annotate(f\"{r:.3g}\",(-1.1*W/2,-pp[0]*cosd(ψ[0])),ha='right')\n",
    "    ax.annotate(rf\"{ψ_rim:.0f}$\\degree$\",(1.1*W/2,-pp[-1]*cosd(ψ[-1])),ha='left',color='green')\n",
    "\n",
    "\n",
    "ax.legend()\n",
    "ax.axis('equal')\n",
    "ax.set_xlim((-W/2,W/2))\n",
    "ax.axvline(-1.05*W/2,ls=':',linewidth=1.0,color='black')\n",
    "ax.axvline(1.05*W/2,ls=':',linewidth=1.0,color='green')\n",
    "ax.axis('off')\n",
    "\n",
    "y_mid = 0.5*sum(ax.get_ylim())\n",
    "ax.annotate(r\"Rim angle, $\\psi_{rim}$\",(1.8*W/2,y_mid),ha='center',va='center',rotation=-90,color='green')\n",
    "ax.annotate(r\"Focal length to aperture, $f/W$\",(-2.2*W/2,y_mid),ha='center',va='center',rotation=90)\n"
   ]
  },
  {
   "cell_type": "markdown",
   "metadata": {},
   "source": [
    "## Heliostat aiming\n",
    "Get sun vector first"
   ]
  },
  {
   "cell_type": "code",
   "execution_count": null,
   "metadata": {},
   "outputs": [],
   "source": [
    "# Brisbane, Australia (27.4705 S, 153.0260 E)\n",
    "lat = -27.47\n",
    "lon_st = 360-150 # E -> subtract from 360\n",
    "lon_pysolar = 153.02\n",
    "lon = 360-153.0260 # E -> subtract from 360\n",
    "utc_offset = 10 # hours\n",
    "\n",
    "# local time\n",
    "s = 0\n",
    "m = 30\n",
    "h = 12\n",
    "day = 1\n",
    "month = 1\n",
    "year = 2014\n",
    "\n",
    "dt = datetime(year,month,day,h,m,s,tzinfo=timezone(timedelta(hours=utc_offset)))\n",
    "doy = dt.timetuple().tm_yday # day of year\n",
    "γ_s_pysolar,altitude = solar.get_position(lat,lon_pysolar,dt) \n",
    "\n",
    "# convert to beckman convention, south zero, west positive\n",
    "γ_s = γ_s_pysolar - 180\n",
    "θ_z = 90-altitude\n",
    "print(f\"Solar zenith: {θ_z:.1f} degrees, Solar azimuth: {γ_s:.1f} (+West of South)\")\n"
   ]
  },
  {
   "cell_type": "code",
   "execution_count": null,
   "metadata": {},
   "outputs": [],
   "source": [
    "S = solar_vector_from_angles(γ_s,θ_z,convention='sam')\n",
    "xh,yh,zh = 100,100,1.0\n",
    "xa,ya,za = 0,0,151\n",
    "R = np.array([xa-xh,ya-yh,za-zh])\n",
    "S /= vecnorm(S)\n",
    "R /= vecnorm(R)\n",
    "\n",
    "# compute normal\n",
    "N = S+R\n",
    "N /= vecnorm(N)\n",
    "N_rabl = (S+R)/np.sqrt(2+2*np.dot(S,R))\n",
    "\n",
    "# check consistancy with Power from the Sun\n",
    "theta = np.arccos(np.dot(N,S))\n",
    "N_pfs = (S+R)/2/np.cos(theta)\n",
    "\n",
    "N,N_rabl,N_pfs"
   ]
  },
  {
   "cell_type": "code",
   "execution_count": null,
   "metadata": {},
   "outputs": [],
   "source": []
  }
 ],
 "metadata": {
  "kernelspec": {
   "display_name": ".venv",
   "language": "python",
   "name": "python3"
  },
  "language_info": {
   "codemirror_mode": {
    "name": "ipython",
    "version": 3
   },
   "file_extension": ".py",
   "mimetype": "text/x-python",
   "name": "python",
   "nbconvert_exporter": "python",
   "pygments_lexer": "ipython3",
   "version": "3.10.9"
  }
 },
 "nbformat": 4,
 "nbformat_minor": 2
}
